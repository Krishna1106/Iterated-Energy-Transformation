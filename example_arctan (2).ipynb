{
 "cells": [
  {
   "cell_type": "code",
   "execution_count": 28,
   "id": "84765bd6",
   "metadata": {},
   "outputs": [
    {
     "data": {
      "text/plain": [
       "280"
      ]
     },
     "execution_count": 28,
     "metadata": {},
     "output_type": "execute_result"
    }
   ],
   "source": [
    "%run arctangent.ipynb\n",
    "%run logarithm.ipynb\n",
    "random.seed(9338)\n",
    "sa = SimAnneal_log(coords,eta_0 = 25,alpha = 50,delta= 0 ,rho = 10,M = 200, stopping_iter=20000)\n",
    "# simulated annealing\n",
    "sa.anneal()\n",
    "sa.worse_acceptances"
   ]
  },
  {
   "cell_type": "code",
   "execution_count": 30,
   "id": "0f185c1d",
   "metadata": {},
   "outputs": [
    {
     "name": "stdout",
     "output_type": "stream",
     "text": [
      "2.4098\n",
      "0.20409999999999998\n",
      "0.14854999999999996\n",
      "2.3783000000000003\n",
      "0.1334\n",
      "0.0998\n",
      "1.4642000000000002\n",
      "0.0082\n",
      "0.00425\n"
     ]
    }
   ],
   "source": [
    "%run arctangent.ipynb\n",
    "%run logarithm.ipynb\n",
    "import matplotlib.pyplot as plt\n",
    "import random\n",
    "import numpy as np\n",
    "import time\n",
    "\n",
    "\n",
    "\n",
    "def read_coords(path):\n",
    "    coords = []\n",
    "    with open(path, \"r\") as f:\n",
    "        for line in f.readlines():\n",
    "            line = [float(x.replace(\"\\n\", \"\")) for x in line.split(\" \")]\n",
    "            coords.append(line)\n",
    "    return coords\n",
    "\n",
    "\n",
    "def generate_random_coords(num_nodes):\n",
    "    return [[random.uniform(0, 100), random.uniform(0, 100)] for i in range(num_nodes)]\n",
    "\n",
    "\n",
    "if __name__ == \"__main__\":\n",
    "    output1 = []\n",
    "    output2 = []\n",
    "    output3 = []\n",
    "    acceptances_sa = []\n",
    "    acceptances_arc = []\n",
    "    acceptances_log = []\n",
    "    small_acceptances_sa = []\n",
    "    small_acceptances_arc = []\n",
    "    small_acceptances_log = []\n",
    "    worse_acceptances_sa = []\n",
    "    worse_acceptances_arc = []\n",
    "    worse_acceptances_log = []\n",
    "    random.seed(15)\n",
    "    seed = []\n",
    "    arc_best_seed = 1\n",
    "    arc_worst_seed = 1\n",
    "    arc_best_improvement = -1\n",
    "    arc_worst_improvement = 1\n",
    "    log_best_seed = 1\n",
    "    log_worst_seed = 1\n",
    "    log_best_improvement = -1\n",
    "    log_worst_improvement = 1\n",
    "    for i in range(100):\n",
    "        seed.append(random.randint(0,10200))\n",
    "\n",
    "    for i in range(100):\n",
    "        random.seed(seed[i])\n",
    "        #coords = read_coords(\"coord.txt\")  # generate_random_coords(100)\n",
    "        coords = generate_random_coords(50)\n",
    "        random.seed(200)\n",
    "        sa = SimAnneal_log(coords,eta_0 = 25,alpha = 50,delta= 0 ,rho = 10,M = 200, stopping_iter=20000)\n",
    "        # simulated annealing\n",
    "        sa.anneal()\n",
    "        acceptances_sa.append((sa.acceptances / 20000)*100)\n",
    "        small_acceptances_sa.append((sa.small_acceptances / 20000)*100)\n",
    "        worse_acceptances_sa.append((sa.worse_acceptances / 20000)*100)\n",
    "        #sa.visualize_routes()\n",
    "        #sa.plot_learning()\n",
    "        \n",
    "        # arctan_IET\n",
    "        random.seed(200)\n",
    "        iet_arc = SimAnneal_arc(coords,eta_0 = 25,alpha = 50,delta= 0 ,rho = 10,M = 200, stopping_iter=20000)\n",
    "        iet_arc.arctan_anneal()\n",
    "        acceptances_arc.append((iet_arc.acceptances / 20000)*100)\n",
    "        small_acceptances_arc.append((iet_arc.small_acceptances / 20000)*100)\n",
    "        worse_acceptances_arc.append((iet_arc.worse_acceptances / 20000)*100)\n",
    "        improve_percentage1 = (sa.best_fitness - iet_arc.best_fitness)/sa.best_fitness\n",
    "        output1.append(improve_percentage1)\n",
    "        if improve_percentage1 >  arc_best_improvement:\n",
    "            arc_best_improvement = improve_percentage1\n",
    "            arc_best_seed = seed[i]\n",
    "        if improve_percentage1 <  arc_worst_improvement:\n",
    "            arc_worst_improvement = improve_percentage1\n",
    "            arc_worst_seed = seed[i]\n",
    "        \n",
    "        #log_IET\n",
    "        random.seed(200)\n",
    "        iet_log = SimAnneal_log(coords,eta_0 = 50,alpha = 100,delta= 0 ,rho = 1,M = 100, stopping_iter = 20000)\n",
    "        iet_log.log_anneal()\n",
    "        acceptances_log.append((iet_log.acceptances / 20000)*100)\n",
    "        small_acceptances_log.append((iet_log.small_acceptances / 20000)*100)\n",
    "        worse_acceptances_log.append((iet_log.worse_acceptances / 20000)*100)\n",
    "        improve_percentage2 = (sa.best_fitness - iet_log.best_fitness)/sa.best_fitness\n",
    "        output2.append(improve_percentage2)\n",
    "        if improve_percentage2 >  log_best_improvement:\n",
    "            log_best_improvement = improve_percentage2\n",
    "            log_best_seed = seed[i]\n",
    "        if improve_percentage2 <  log_worst_improvement:\n",
    "            log_worst_improvement = improve_percentage2\n",
    "            log_worst_seed = seed[i]\n",
    "        \n",
    "        # log vs arc\n",
    "        improve_percentage3 = (iet_log.best_fitness - iet_arc.best_fitness)/sa.best_fitness\n",
    "        output3.append(improve_percentage3)\n",
    "        \n",
    "\n",
    "\n",
    "\n",
    "print(np.mean(np.array(acceptances_sa)))\n",
    "print(np.mean(np.array(acceptances_arc)))\n",
    "print(np.mean(np.array(acceptances_log)))\n",
    "print(np.mean(np.array(small_acceptances_sa)))\n",
    "print(np.mean(np.array(small_acceptances_arc)))\n",
    "print(np.mean(np.array(small_acceptances_log)))\n",
    "print(np.mean(np.array(worse_acceptances_sa)))\n",
    "print(np.mean(np.array(worse_acceptances_arc)))\n",
    "print(np.mean(np.array(worse_acceptances_log)))"
   ]
  },
  {
   "cell_type": "code",
   "execution_count": null,
   "id": "d7b3007e",
   "metadata": {},
   "outputs": [],
   "source": []
  },
  {
   "cell_type": "code",
   "execution_count": 5,
   "id": "cb6184e9",
   "metadata": {},
   "outputs": [
    {
     "data": {
      "image/png": "[encoded data removed]",
      "text/plain": [
       "<Figure size 432x288 with 1 Axes>"
      ]
     },
     "metadata": {
      "needs_background": "light"
     },
     "output_type": "display_data"
    },
    {
     "data": {
      "image/png": "[encoded data removed]",
      "text/plain": [
       "<Figure size 432x288 with 1 Axes>"
      ]
     },
     "metadata": {
      "needs_background": "light"
     },
     "output_type": "display_data"
    },
    {
     "data": {
      "image/png": "[encoded data removed]",
      "text/plain": [
       "<Figure size 432x288 with 1 Axes>"
      ]
     },
     "metadata": {
      "needs_background": "light"
     },
     "output_type": "display_data"
    }
   ],
   "source": [
    "plt.hist(np.array(output1) * 100, bins=50)\n",
    "plt.ylabel(\"Frequency\")\n",
    "plt.xlabel(\"Improvement percentage\")\n",
    "plt.title(\"Histogram of improvement percentage of IET arctangent over SA on 100 randomly generated TSP instances\")\n",
    "plt.show()\n",
    "    \n",
    "plt.hist(np.array(output2) * 100, bins=50)\n",
    "plt.ylabel(\"Frequency\")\n",
    "plt.xlabel(\"Improvement percentage\")\n",
    "plt.title(\"Histogram of improvement percentage of IET logarithm over SA on 100 randomly generated TSP instances\")\n",
    "plt.show()\n",
    "    \n",
    "plt.hist(np.array(output3) * 100, bins=100)\n",
    "plt.ylabel(\"Frequency\")\n",
    "plt.xlabel(\"Improvement percentage\")\n",
    "plt.title(\"Histogram of improvement percentage of IET arctangent over IET logarithm on 100 randomly generated TSP instances\")\n",
    "plt.show()"
   ]
  },
  {
   "cell_type": "code",
   "execution_count": 18,
   "id": "7b6478de",
   "metadata": {},
   "outputs": [
    {
     "name": "stdout",
     "output_type": "stream",
     "text": [
      "9332\n",
      "6338\n",
      "0.05779509254482339\n",
      "-0.13025373046999847\n",
      "3745\n",
      "6338\n",
      "0.047335475434519596\n",
      "-0.13025373046999847\n"
     ]
    }
   ],
   "source": [
    "print(arc_best_seed )\n",
    "print(arc_worst_seed )\n",
    "print(arc_best_improvement)\n",
    "print(arc_worst_improvement)\n",
    "print(log_best_seed) \n",
    "print(log_worst_seed)\n",
    "print(log_best_improvement) \n",
    "print(log_worst_improvement)"
   ]
  },
  {
   "cell_type": "code",
   "execution_count": 79,
   "id": "3be65436",
   "metadata": {},
   "outputs": [
    {
     "name": "stdout",
     "output_type": "stream",
     "text": [
      "-0.004746409091785973\n",
      "0.05372794755992653\n",
      "-0.04907736460662465\n",
      "-0.0044540823504858685\n",
      "10\n",
      "10\n"
     ]
    }
   ],
   "source": [
    "print(np.mean(output))\n",
    "print(np.amax(output))\n",
    "print(np.amin(output))\n",
    "print(np.median(output))\n",
    "print(np.sum(np_output >= 0))\n",
    "print(np.sum(np_output < 0))"
   ]
  },
  {
   "cell_type": "code",
   "execution_count": 23,
   "id": "657892b3",
   "metadata": {},
   "outputs": [
    {
     "data": {
      "text/plain": [
       "0.05779509254482339"
      ]
     },
     "execution_count": 23,
     "metadata": {},
     "output_type": "execute_result"
    }
   ],
   "source": [
    "random.seed(arc_best_seed)\n",
    "#coords = read_coords(\"coord.txt\")  # generate_random_coords(100)\n",
    "coords = generate_random_coords(50)\n",
    "\n",
    "\n",
    "sa = SimAnneal_log(coords,eta_0 = 25,alpha = 50,delta= 0 ,rho = 10,M = 200, stopping_iter=20000)\n",
    "# simulated annealing\n",
    "sa.anneal()\n",
    "#sa.visualize_routes()\n",
    "#sa.plot_learning()\n",
    "\n",
    "# arctan_IET\n",
    "\n",
    "iet_arc = SimAnneal_arc(coords,eta_0 = 25,alpha = 50,delta= 0 ,rho = 10,M = 200, stopping_iter=20000)\n",
    "iet_arc.arctan_anneal()\n",
    "improve_percentage1 = (sa.best_fitness - iet_arc.best_fitness)/sa.best_fitness\n",
    "improve_percentage1\n",
    "        "
   ]
  },
  {
   "cell_type": "code",
   "execution_count": 21,
   "id": "7295690f",
   "metadata": {},
   "outputs": [
    {
     "data": {
      "text/plain": [
       "0.047335475434519596"
      ]
     },
     "execution_count": 21,
     "metadata": {},
     "output_type": "execute_result"
    }
   ],
   "source": [
    "random.seed(log_best_seed)\n",
    "#coords = read_coords(\"coord.txt\")  # generate_random_coords(100)\n",
    "coords = generate_random_coords(50)\n",
    "\n",
    "random.seed(200)\n",
    "sa = SimAnneal_log(coords,eta_0 = 25,alpha = 50,delta= 0 ,rho = 10,M = 200, stopping_iter=20000)\n",
    "# simulated annealing\n",
    "sa.anneal()\n",
    "#sa.visualize_routes()\n",
    "#sa.plot_learning()\n",
    "\n",
    "#log_IET\n",
    "random.seed(200)\n",
    "iet_log = SimAnneal_log(coords,eta_0 = 50,alpha = 100,delta= 0 ,rho = 1,M = 100, stopping_iter = 20000)\n",
    "iet_log.log_anneal()\n",
    "improve_percentage2 = (sa.best_fitness - iet_log.best_fitness)/sa.best_fitness\n",
    "improve_percentage2\n",
    "        \n"
   ]
  },
  {
   "cell_type": "code",
   "execution_count": 84,
   "id": "18e01b6c",
   "metadata": {},
   "outputs": [],
   "source": [
    "def tuple_generator(l1,l2,l3,l4):\n",
    "    all_tuples = []\n",
    "    for i in range(len(l1)):\n",
    "        for j in range(len(l2)):\n",
    "            for k in range(len(l3)):\n",
    "                for l in range(len(l4)):\n",
    "                    all_tuples.append((l1[i],l2[j],l3[k],l4[l]))\n",
    "    return all_tuples\n",
    "        "
   ]
  },
  {
   "cell_type": "code",
   "execution_count": 85,
   "id": "bcd4b5c3",
   "metadata": {},
   "outputs": [
    {
     "data": {
      "text/plain": [
       "(0, 0, 0, 0.001)"
      ]
     },
     "execution_count": 85,
     "metadata": {},
     "output_type": "execute_result"
    }
   ],
   "source": [
    "# making a big test to sweep and check for best parameters - eta_0, alpha, delta, rho \n",
    "eta_0s = [1,5,10,15,25,50]\n",
    "alphas = [0,5,10,25,50,100,200,300,500]\n",
    "delta = [0,2,8]\n",
    "rhos = [0.001,0.1,1,1.1,1.5,3,5,7.5,15,40,80]\n",
    "parameters = tuple_generator(eta_0s,alphas,delta,rhos)\n",
    "# first tuple position is eta_0, second is alpha, third is delta and 4th is rho.\n",
    "best_parameters = parameters[i]\n",
    "best_param_output = [-50]*20\n",
    "for theta in parameters:\n",
    "    output = []\n",
    "    random.seed(15)\n",
    "    seed = []\n",
    "    for i in range(50):\n",
    "        seed.append(random.randint(0,10200))\n",
    "    for i in range(50):\n",
    "        random.seed(seed[i])\n",
    "        coords = generate_random_coords(50)\n",
    "        random.seed(200)\n",
    "        sa = SimAnneal(coords,eta_0 = theta[0],alpha = theta[1],delta= theta[2] ,rho = theta[3],M = 100, stopping_iter=10000)\n",
    "        # simulated annealing\n",
    "        sa.anneal()\n",
    "        # improved annealing\n",
    "        random.seed(200)\n",
    "        iet = SimAnneal(coords,eta_0 = theta[0],alpha = theta[1],delta= theta[2] ,rho = theta[3],M = 200, stopping_iter=10000)\n",
    "        iet.IET_anneal()\n",
    "        improve_percentage = (sa.best_fitness - iet.best_fitness)/sa.best_fitness\n",
    "        output.append(improve_percentage)\n",
    "\n",
    "    np_output = np.array(output)\n",
    "    if np.mean(output) > np.mean(best_param_output):\n",
    "        best_param_output = output\n",
    "        best_parameters = theta\n",
    "    if np.mean(output) < np.mean(worst_param_output):\n",
    "        worst_param_output = output\n",
    "        worst_parameters = theta\n",
    "best_parameters\n",
    "worst_parameters\n",
    "\n",
    "\n"
   ]
  },
  {
   "cell_type": "code",
   "execution_count": null,
   "id": "6e7e8bd9",
   "metadata": {},
   "outputs": [],
   "source": [
    " print('arctan results')\n",
    "    np_output1 = np.array(output1)\n",
    "    print(np.mean(output1))\n",
    "    print(np.amax(output1))\n",
    "    print(np.amin(output1))\n",
    "    print(np.median(output1))\n",
    "    print(np.sum(np_output1 >= 0))\n",
    "    print(np.sum(np_output1 < 0))\n",
    "\n",
    "    \n",
    "    print('log results')\n",
    "    np_output2 = np.array(output2)\n",
    "    print(np.mean(output2))\n",
    "    print(np.amax(output2))\n",
    "    print(np.amin(output2))\n",
    "    print(np.median(output2))\n",
    "    print(np.sum(np_output2 >= 0))\n",
    "    print(np.sum(np_output2 < 0))\n",
    "    \n",
    "    print('arc vs log')\n",
    "    np_output3 = np.array(output3)\n",
    "    print(np.mean(output3))\n",
    "    print(np.amax(output3))\n",
    "    print(np.amin(output3))\n",
    "    print(np.median(output3))\n",
    "    print(np.sum(np_output3 >= 0))\n",
    "    print(np.sum(np_output3 < 0))\n",
    "\n",
    "    \n",
    "    \n",
    "\n",
    "    plt.hist(np.array(output1) * 100, bins=50)\n",
    "    plt.ylabel(\"Frequency\")\n",
    "    plt.xlabel(\"Improvement percentage\")\n",
    "    plt.title(\"Histogram of improvement percentage of IET arctangent over SA on 100 randomly generated TSP instances\")\n",
    "    plt.show()\n",
    "    \n",
    "    plt.hist(np.array(output2) * 100, bins=50)\n",
    "    plt.ylabel(\"Frequency\")\n",
    "    plt.xlabel(\"Improvement percentage\")\n",
    "    plt.title(\"Histogram of improvement percentage of IET logarithm over SA on 100 randomly generated TSP instances\")\n",
    "    plt.show()\n",
    "    \n",
    "    plt.hist(np.array(output3) * 100, bins=50)\n",
    "    plt.ylabel(\"Frequency\")\n",
    "    plt.xlabel(\"Improvement percentage\")\n",
    "    plt.title(\"Histogram of improvement percentage of IET arctangent over IET logarithm on 100 randomly generated TSP instances\")\n",
    "    plt.show()"
   ]
  },
  {
   "cell_type": "code",
   "execution_count": 57,
   "id": "8317e4f6",
   "metadata": {},
   "outputs": [
    {
     "name": "stderr",
     "output_type": "stream",
     "text": [
      "UsageError: Line magic function `%` not found.\n"
     ]
    }
   ],
   "source": []
  },
  {
   "cell_type": "code",
   "execution_count": null,
   "id": "10a0b2dc",
   "metadata": {},
   "outputs": [],
   "source": []
  }
 ],
 "metadata": {
  "kernelspec": {
   "display_name": "Python 3 (ipykernel)",
   "language": "python",
   "name": "python3"
  },
  "language_info": {
   "codemirror_mode": {
    "name": "ipython",
    "version": 3
   },
   "file_extension": ".py",
   "mimetype": "text/x-python",
   "name": "python",
   "nbconvert_exporter": "python",
   "pygments_lexer": "ipython3",
   "version": "3.9.7"
  }
 },
 "nbformat": 4,
 "nbformat_minor": 5
}
