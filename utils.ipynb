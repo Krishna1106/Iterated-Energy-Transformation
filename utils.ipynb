{
 "cells": [
  {
   "cell_type": "code",
   "execution_count": 4,
   "id": "99a3ded6",
   "metadata": {},
   "outputs": [],
   "source": [
    "from collections import namedtuple\n",
    "from PIL import Image, ImageSequence"
   ]
  },
  {
   "cell_type": "code",
   "execution_count": 5,
   "id": "f10d8ce3",
   "metadata": {
    "lines_to_next_cell": 1
   },
   "outputs": [],
   "source": [
    "Point = namedtuple(\"Point\", [\"x\", \"y\"])"
   ]
  },
  {
   "cell_type": "code",
   "execution_count": 6,
   "id": "77867c15",
   "metadata": {},
   "outputs": [],
   "source": [
    "def GIFStich(a, b, output):\n",
    "    gif_a = Image.open(a)\n",
    "    gif_b = Image.open(b)\n",
    "\n",
    "    w1, h1 = gif_a.size\n",
    "    w2, h2 = gif_b.size\n",
    "\n",
    "    height = max(h1, h2)\n",
    "    width = w1 + w2\n",
    "    duration = max(gif_a.info['duration'], gif_b.info['duration'])\n",
    "\n",
    "    frames = []\n",
    "\n",
    "    for f1, f2 in zip(ImageSequence.Iterator(gif_a), ImageSequence.Iterator(gif_b)):\n",
    "        combined = Image.new(\"RGBA\", (width, height))\n",
    "        combined.paste(f1, (0, 0))\n",
    "        combined.paste(f2, (w1, 0))\n",
    "        frames.append(combined)\n",
    "    \n",
    "    frames[0].save(\n",
    "        output, \n",
    "        save_all=True, \n",
    "        append_images=frames[1:],\n",
    "        duration=duration,\n",
    "        loop=0\n",
    "        )\n",
    "    return "
   ]
  },
  {
   "cell_type": "code",
   "execution_count": null,
   "id": "b9a91a2b",
   "metadata": {},
   "outputs": [],
   "source": []
  }
 ],
 "metadata": {
  "jupytext": {
   "cell_metadata_filter": "-all",
   "main_language": "python",
   "notebook_metadata_filter": "-all"
  },
  "kernelspec": {
   "display_name": "Python 3 (ipykernel)",
   "language": "python",
   "name": "python3"
  },
  "language_info": {
   "codemirror_mode": {
    "name": "ipython",
    "version": 3
   },
   "file_extension": ".py",
   "mimetype": "text/x-python",
   "name": "python",
   "nbconvert_exporter": "python",
   "pygments_lexer": "ipython3",
   "version": "3.9.7"
  }
 },
 "nbformat": 4,
 "nbformat_minor": 5
}
